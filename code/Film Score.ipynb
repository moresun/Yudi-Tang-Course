{
 "cells": [
  {
   "cell_type": "code",
   "execution_count": 5,
   "metadata": {
    "collapsed": true
   },
   "outputs": [
    {
     "name": "stdout",
     "output_type": "stream",
     "text": [
      "<class 'pandas.core.series.Series'>\n",
      "0        James Cameron\n",
      "1       Gore Verbinski\n",
      "2           Sam Mendes\n",
      "3    Christopher Nolan\n",
      "4          Doug Walker\n",
      "Name: director_name, dtype: object\n",
      "0    7.9\n",
      "1    7.1\n",
      "2    6.8\n",
      "3    8.5\n",
      "4    7.1\n",
      "Name: imdb_score, dtype: float64\n"
     ]
    }
   ],
   "source": [
    "import pandas as pd\n",
    "fandango=pd.read_csv(r'C:\\Users\\Ordinary\\Desktop\\movie_metadata.csv')\n",
    "series_film=fandango['director_name']\n",
    "print(type(series_film))\n",
    "print(series_film[0:5])\n",
    "series_rt=fandango['imdb_score']\n",
    "print(series_rt[0:5])"
   ]
  },
  {
   "cell_type": "code",
   "execution_count": 3,
   "metadata": {
    "collapsed": true
   },
   "outputs": [
    {
     "name": "stdout",
     "output_type": "stream",
     "text": [
      "<class 'numpy.ndarray'>\n"
     ]
    },
    {
     "data": {
      "text/plain": [
       "Doug Walker     7.1\n",
       "Bryan Singer    6.1\n",
       "Bryan Singer    8.0\n",
       "Bryan Singer    6.3\n",
       "Bryan Singer    7.3\n",
       "Bryan Singer    7.5\n",
       "Bryan Singer    7.1\n",
       "Bryan Singer    7.4\n",
       "Bryan Singer    8.6\n",
       "dtype: float64"
      ]
     },
     "execution_count": 3,
     "metadata": {},
     "output_type": "execute_result"
    }
   ],
   "source": [
    "from pandas import Series\n",
    "\n",
    "film_names=series_film.values\n",
    "print(type(film_names))\n",
    "rt_scores=series_rt.values\n",
    "series_custom=Series(rt_scores,index=film_names)\n",
    "series_custom[['Doug Walker','Bryan Singer']]"
   ]
  },
  {
   "cell_type": "code",
   "execution_count": 4,
   "metadata": {
    "collapsed": true
   },
   "outputs": [
    {
     "name": "stdout",
     "output_type": "stream",
     "text": [
      "Andrew Stanton    6.6\n",
      "Sam Raimi         6.2\n",
      "Nathan Greno      7.8\n",
      "Joss Whedon       7.5\n",
      "David Yates       7.5\n",
      "dtype: float64\n"
     ]
    }
   ],
   "source": [
    "fiveten=series_custom[5:10]\n",
    "print(fiveten)"
   ]
  },
  {
   "cell_type": "code",
   "execution_count": 6,
   "metadata": {
    "collapsed": true
   },
   "outputs": [
    {
     "ename": "TypeError",
     "evalue": "'<' not supported between instances of 'float' and 'str'",
     "output_type": "error",
     "traceback": [
      "\u001b[1;31m---------------------------------------------------------------------------\u001b[0m",
      "\u001b[1;31mTypeError\u001b[0m                                 Traceback (most recent call last)",
      "\u001b[1;32m<ipython-input-6-3984280ec90a>\u001b[0m in \u001b[0;36m<module>\u001b[1;34m()\u001b[0m\n\u001b[0;32m      1\u001b[0m \u001b[0moriginal_index\u001b[0m\u001b[1;33m=\u001b[0m\u001b[0mseries_custom\u001b[0m\u001b[1;33m.\u001b[0m\u001b[0mindex\u001b[0m\u001b[1;33m.\u001b[0m\u001b[0mtolist\u001b[0m\u001b[1;33m(\u001b[0m\u001b[1;33m)\u001b[0m\u001b[1;33m\u001b[0m\u001b[0m\n\u001b[0;32m      2\u001b[0m \u001b[1;31m#print(original_index)\u001b[0m\u001b[1;33m\u001b[0m\u001b[1;33m\u001b[0m\u001b[0m\n\u001b[1;32m----> 3\u001b[1;33m \u001b[0msorted_index\u001b[0m\u001b[1;33m=\u001b[0m\u001b[0msorted\u001b[0m\u001b[1;33m(\u001b[0m\u001b[0moriginal_index\u001b[0m\u001b[1;33m)\u001b[0m\u001b[1;33m\u001b[0m\u001b[0m\n\u001b[0m\u001b[0;32m      4\u001b[0m \u001b[0msorted_by_index\u001b[0m\u001b[1;33m=\u001b[0m\u001b[0mseries_custom\u001b[0m\u001b[1;33m.\u001b[0m\u001b[0mreindex\u001b[0m\u001b[1;33m(\u001b[0m\u001b[0msorted_index\u001b[0m\u001b[1;33m)\u001b[0m\u001b[1;33m\u001b[0m\u001b[0m\n\u001b[0;32m      5\u001b[0m \u001b[0mprint\u001b[0m\u001b[1;33m(\u001b[0m\u001b[0msorted_by_index\u001b[0m\u001b[1;33m)\u001b[0m\u001b[1;33m\u001b[0m\u001b[0m\n",
      "\u001b[1;31mTypeError\u001b[0m: '<' not supported between instances of 'float' and 'str'"
     ]
    }
   ],
   "source": [
    "original_index=series_custom.index.tolist()\n",
    "#print(original_index)\n",
    "sorted_index=sorted(original_index)\n",
    "sorted_by_index=series_custom.reindex(sorted_index)\n",
    "print(sorted_by_index)"
   ]
  },
  {
   "cell_type": "code",
   "execution_count": 9,
   "metadata": {},
   "outputs": [
    {
     "data": {
      "text/plain": [
       "9.5"
      ]
     },
     "execution_count": 9,
     "metadata": {},
     "output_type": "execute_result"
    }
   ],
   "source": [
    "import numpy as np\n",
    "#print(np.add(series_custom,series_custom))\n",
    "np.sin(series_custom)\n",
    "np.max(series_custom)"
   ]
  },
  {
   "cell_type": "code",
   "execution_count": 11,
   "metadata": {
    "collapsed": true
   },
   "outputs": [
    {
     "name": "stdout",
     "output_type": "stream",
     "text": [
      "Gore Verbinski        7.1\n",
      "Sam Mendes            6.8\n",
      "Doug Walker           7.1\n",
      "Andrew Stanton        6.6\n",
      "Sam Raimi             6.2\n",
      "Zack Snyder           6.9\n",
      "Bryan Singer          6.1\n",
      "Marc Forster          6.7\n",
      "Gore Verbinski        7.3\n",
      "Gore Verbinski        6.5\n",
      "Zack Snyder           7.2\n",
      "Andrew Adamson        6.6\n",
      "Rob Marshall          6.7\n",
      "Barry Sonnenfeld      6.8\n",
      "Marc Webb             7.0\n",
      "Ridley Scott          6.7\n",
      "Chris Weitz           6.1\n",
      "Peter Jackson         7.2\n",
      "Peter Berg            5.9\n",
      "Colin Trevorrow       7.0\n",
      "Sam Raimi             7.3\n",
      "Shane Black           7.2\n",
      "Tim Burton            6.5\n",
      "Brett Ratner          6.8\n",
      "Dan Scanlon           7.3\n",
      "Michael Bay           6.0\n",
      "Michael Bay           5.7\n",
      "Sam Raimi             6.4\n",
      "Marc Webb             6.7\n",
      "Joseph Kosinski       6.8\n",
      "                     ... \n",
      "Malcolm Goodwin       5.5\n",
      "Bradley Rust Gray     6.3\n",
      "Andrew Bujalski       6.9\n",
      "Damir Catic           5.4\n",
      "Ben Wheatley          6.5\n",
      "James Bidgood         6.7\n",
      "Andrew Bujalski       6.4\n",
      "Neil LaBute           7.3\n",
      "David Ayer            5.7\n",
      "Eric Eason            7.0\n",
      "Uwe Boll              6.3\n",
      "Richard Linklater     7.1\n",
      "Alex Kendrick         6.9\n",
      "Jay Duplass           6.6\n",
      "Jim Chuchu            7.4\n",
      "Daryl Wein            6.2\n",
      "John Waters           6.1\n",
      "Olivier Assayas       6.9\n",
      "Ivan Kavanagh         6.7\n",
      "Kiyoshi Kurosawa      7.4\n",
      "Tadeo Garcia          6.1\n",
      "Thomas L. Phillips    5.4\n",
      "Ash Baron-Cohen       6.4\n",
      "Shane Carruth         7.0\n",
      "Neill Dela Llana      6.3\n",
      "Robert Rodriguez      6.9\n",
      "Edward Burns          6.4\n",
      "Benjamin Roberds      6.3\n",
      "Daniel Hsia           6.3\n",
      "Jon Gunn              6.6\n",
      "Length: 3632, dtype: float64\n"
     ]
    }
   ],
   "source": [
    "series_custom>50\n",
    "series_greater_than_50 =series_custom[series_custom>50]\n",
    "\n",
    "criteria_one=series_custom>5\n",
    "criteria_two=series_custom<7.5\n",
    "both_criteria=series_custom[criteria_one & criteria_two]\n",
    "print(both_criteria)\n"
   ]
  },
  {
   "cell_type": "code",
   "execution_count": 16,
   "metadata": {
    "collapsed": true
   },
   "outputs": [
    {
     "name": "stdout",
     "output_type": "stream",
     "text": [
      "director_name\n",
      "James Cameron          4.840\n",
      "Gore Verbinski         4.725\n",
      "Sam Mendes             4.575\n",
      "Christopher Nolan      5.425\n",
      "Doug Walker              NaN\n",
      "Andrew Stanton         4.475\n",
      "Sam Raimi              4.275\n",
      "Nathan Greno           4.825\n",
      "Joss Whedon            4.925\n",
      "David Yates            4.925\n",
      "Zack Snyder            4.625\n",
      "Bryan Singer           4.225\n",
      "Marc Forster           4.525\n",
      "Gore Verbinski         4.825\n",
      "Gore Verbinski         4.425\n",
      "Zack Snyder            4.775\n",
      "Andrew Adamson         4.475\n",
      "Joss Whedon            4.975\n",
      "Rob Marshall           4.525\n",
      "Barry Sonnenfeld       4.325\n",
      "Peter Jackson          4.925\n",
      "Marc Webb              4.675\n",
      "Ridley Scott           4.525\n",
      "Peter Jackson          5.125\n",
      "Chris Weitz            4.225\n",
      "Peter Jackson          4.775\n",
      "James Cameron          5.025\n",
      "Anthony Russo          5.275\n",
      "Peter Berg             4.125\n",
      "Colin Trevorrow        4.500\n",
      "                       ...  \n",
      "Eric Eason             4.390\n",
      "Uwe Boll               4.325\n",
      "Richard Linklater      4.235\n",
      "Joseph Mazzella          NaN\n",
      "Travis Legge           2.540\n",
      "Alex Kendrick          4.375\n",
      "Marcus Nispel          3.225\n",
      "Brandon Landers          NaN\n",
      "Jay Duplass              NaN\n",
      "Jim Chuchu               NaN\n",
      "Daryl Wein             4.275\n",
      "Jason Trost            3.175\n",
      "John Waters            3.735\n",
      "Olivier Assayas        4.625\n",
      "Jafar Panahi           4.675\n",
      "Ivan Kavanagh          4.015\n",
      "Kiyoshi Kurosawa       4.625\n",
      "Tadeo Garcia             NaN\n",
      "Thomas L. Phillips    10.700\n",
      "Ash Baron-Cohen          NaN\n",
      "Shane Carruth          4.425\n",
      "Neill Dela Llana         NaN\n",
      "Robert Rodriguez       4.135\n",
      "Anthony Vallone          NaN\n",
      "Edward Burns             NaN\n",
      "Scott Smith              NaN\n",
      "NaN                   11.750\n",
      "Benjamin Roberds         NaN\n",
      "Daniel Hsia            4.325\n",
      "Jon Gunn               4.225\n",
      "Length: 5043, dtype: float64\n"
     ]
    }
   ],
   "source": [
    "rt_critics =Series(fandango['imdb_score'].values,index=fandango['director_name'])\n",
    "rt_users =Series(fandango['aspect_ratio'].values,index=fandango['director_name'])\n",
    "rt_mean=(rt_critics+rt_users)/2\n",
    "\n",
    "print(rt_mean)"
   ]
  },
  {
   "cell_type": "code",
   "execution_count": 17,
   "metadata": {},
   "outputs": [
    {
     "name": "stdout",
     "output_type": "stream",
     "text": [
      "<class 'pandas.core.frame.DataFrame'>\n",
      "Index([    'James Cameron',    'Gore Verbinski',        'Sam Mendes',\n",
      "       'Christopher Nolan',       'Doug Walker',    'Andrew Stanton',\n",
      "               'Sam Raimi',      'Nathan Greno',       'Joss Whedon',\n",
      "             'David Yates',\n",
      "       ...\n",
      "           'Shane Carruth',  'Neill Dela Llana',  'Robert Rodriguez',\n",
      "         'Anthony Vallone',      'Edward Burns',       'Scott Smith',\n",
      "                       nan,  'Benjamin Roberds',       'Daniel Hsia',\n",
      "                'Jon Gunn'],\n",
      "      dtype='object', name='director_name', length=5043)\n"
     ]
    }
   ],
   "source": [
    "import pandas as pd\n",
    "fandango=pd.read_csv(r'C:\\Users\\Ordinary\\Desktop\\movie_metadata.csv')\n",
    "fandango_films=fandango.set_index('director_name',drop=False)\n",
    "print(type(fandango))\n",
    "#series_film=fandango['director_name']\n",
    "#series_rt=fandango['imdb_score']\n",
    "print(fandango_films.index)"
   ]
  },
  {
   "cell_type": "code",
   "execution_count": 18,
   "metadata": {},
   "outputs": [
    {
     "name": "stdout",
     "output_type": "stream",
     "text": [
      "num_critic_for_reviews     1.215895e+02\n",
      "duration                   2.519493e+01\n",
      "director_facebook_likes    2.813044e+03\n",
      "actor_3_facebook_likes     1.664876e+03\n",
      "actor_1_facebook_likes     1.501927e+04\n",
      "gross                      6.844476e+07\n",
      "facenumber_in_poster       2.013376e+00\n",
      "num_user_for_reviews       3.779453e+02\n",
      "budget                     2.060923e+08\n",
      "title_year                 1.247333e+01\n",
      "actor_2_facebook_likes     4.042037e+03\n",
      "imdb_score                 1.125004e+00\n",
      "aspect_ratio               1.384966e+00\n",
      "dtype: float64\n"
     ]
    }
   ],
   "source": [
    "import numpy as np\n",
    "types =fandango_films.dtypes\n",
    "#print(types)\n",
    "float_columns=types[types.values=='float64'].index\n",
    "#print(float_columns)\n",
    "float_df=fandango_films[float_columns]\n",
    "#print(float_df)\n",
    "deviations=float_df.apply(lambda x:np.std(x))\n",
    "print(deviations)"
   ]
  },
  {
   "cell_type": "code",
   "execution_count": null,
   "metadata": {
    "collapsed": true
   },
   "outputs": [],
   "source": []
  }
 ],
 "metadata": {
  "kernelspec": {
   "display_name": "Python 3",
   "language": "python",
   "name": "python3"
  },
  "language_info": {
   "codemirror_mode": {
    "name": "ipython",
    "version": 3
   },
   "file_extension": ".py",
   "mimetype": "text/x-python",
   "name": "python",
   "nbconvert_exporter": "python",
   "pygments_lexer": "ipython3",
   "version": "3.6.3"
  }
 },
 "nbformat": 4,
 "nbformat_minor": 2
}
