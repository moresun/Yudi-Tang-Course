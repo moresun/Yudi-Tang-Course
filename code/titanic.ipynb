{
 "cells": [
  {
   "cell_type": "code",
   "execution_count": 4,
   "metadata": {
    "collapsed": true
   },
   "outputs": [
    {
     "name": "stdout",
     "output_type": "stream",
     "text": [
      "       PassengerId    Survived      Pclass         Age       SibSp  \\\n",
      "count   891.000000  891.000000  891.000000  714.000000  891.000000   \n",
      "mean    446.000000    0.383838    2.308642   29.699118    0.523008   \n",
      "std     257.353842    0.486592    0.836071   14.526497    1.102743   \n",
      "min       1.000000    0.000000    1.000000    0.420000    0.000000   \n",
      "25%     223.500000    0.000000    2.000000   20.125000    0.000000   \n",
      "50%     446.000000    0.000000    3.000000   28.000000    0.000000   \n",
      "75%     668.500000    1.000000    3.000000   38.000000    1.000000   \n",
      "max     891.000000    1.000000    3.000000   80.000000    8.000000   \n",
      "\n",
      "            Parch        Fare  \n",
      "count  891.000000  891.000000  \n",
      "mean     0.381594   32.204208  \n",
      "std      0.806057   49.693429  \n",
      "min      0.000000    0.000000  \n",
      "25%      0.000000    7.910400  \n",
      "50%      0.000000   14.454200  \n",
      "75%      0.000000   31.000000  \n",
      "max      6.000000  512.329200  \n"
     ]
    }
   ],
   "source": [
    "import pandas\n",
    "import numpy\n",
    "titanic = pandas.read_csv(r'C:\\Users\\Ordinary\\Desktop\\Kaggle_Titanic-master\\train.csv')\n",
    "#titanic.head()\n",
    "print (titanic.describe())"
   ]
  },
  {
   "cell_type": "code",
   "execution_count": 5,
   "metadata": {
    "collapsed": true
   },
   "outputs": [
    {
     "name": "stdout",
     "output_type": "stream",
     "text": [
      "       PassengerId    Survived      Pclass         Age       SibSp  \\\n",
      "count   891.000000  891.000000  891.000000  891.000000  891.000000   \n",
      "mean    446.000000    0.383838    2.308642   29.361582    0.523008   \n",
      "std     257.353842    0.486592    0.836071   13.019697    1.102743   \n",
      "min       1.000000    0.000000    1.000000    0.420000    0.000000   \n",
      "25%     223.500000    0.000000    2.000000   22.000000    0.000000   \n",
      "50%     446.000000    0.000000    3.000000   28.000000    0.000000   \n",
      "75%     668.500000    1.000000    3.000000   35.000000    1.000000   \n",
      "max     891.000000    1.000000    3.000000   80.000000    8.000000   \n",
      "\n",
      "            Parch        Fare  \n",
      "count  891.000000  891.000000  \n",
      "mean     0.381594   32.204208  \n",
      "std      0.806057   49.693429  \n",
      "min      0.000000    0.000000  \n",
      "25%      0.000000    7.910400  \n",
      "50%      0.000000   14.454200  \n",
      "75%      0.000000   31.000000  \n",
      "max      6.000000  512.329200  \n"
     ]
    }
   ],
   "source": [
    "titanic[\"Age\"]=titanic[\"Age\"].fillna(titanic[\"Age\"].median())\n",
    "print (titanic.describe())"
   ]
  },
  {
   "cell_type": "code",
   "execution_count": 6,
   "metadata": {},
   "outputs": [
    {
     "name": "stdout",
     "output_type": "stream",
     "text": [
      "['male' 'female']\n"
     ]
    }
   ],
   "source": [
    "print(titanic[\"Sex\"].unique())   \n",
    "titanic.loc[titanic[\"Sex\"]==\"male\",\"Sex\"]=0\n",
    "titanic.loc[titanic[\"Sex\"]==\"female\",\"Sex\"]=1"
   ]
  },
  {
   "cell_type": "code",
   "execution_count": 7,
   "metadata": {},
   "outputs": [
    {
     "name": "stdout",
     "output_type": "stream",
     "text": [
      "['S' 'C' 'Q' nan]\n"
     ]
    }
   ],
   "source": [
    "print(titanic[\"Embarked\"].unique())   \n",
    "titanic.loc[titanic[\"Embarked\"]==\"S\",\"Embarked\"]=0\n",
    "titanic.loc[titanic[\"Embarked\"]==\"C\",\"Embarked\"]=1\n",
    "titanic.loc[titanic[\"Embarked\"]==\"Q\",\"Embarked\"]=2"
   ]
  },
  {
   "cell_type": "code",
   "execution_count": 8,
   "metadata": {
    "collapsed": true
   },
   "outputs": [
    {
     "name": "stderr",
     "output_type": "stream",
     "text": [
      "D:\\Anaconda\\lib\\site-packages\\sklearn\\cross_validation.py:41: DeprecationWarning: This module was deprecated in version 0.18 in favor of the model_selection module into which all the refactored classes and functions are moved. Also note that the interface of the new CV iterators are different from that of this module. This module will be removed in 0.20.\n",
      "  \"This module will be removed in 0.20.\", DeprecationWarning)\n"
     ]
    },
    {
     "ename": "ValueError",
     "evalue": "Input contains NaN, infinity or a value too large for dtype('float64').",
     "output_type": "error",
     "traceback": [
      "\u001b[1;31m---------------------------------------------------------------------------\u001b[0m",
      "\u001b[1;31mValueError\u001b[0m                                Traceback (most recent call last)",
      "\u001b[1;32m<ipython-input-8-e862b32619ca>\u001b[0m in \u001b[0;36m<module>\u001b[1;34m()\u001b[0m\n\u001b[0;32m      9\u001b[0m     \u001b[0mtrain_predictors\u001b[0m\u001b[1;33m=\u001b[0m\u001b[1;33m(\u001b[0m\u001b[0mtitanic\u001b[0m\u001b[1;33m[\u001b[0m\u001b[0mpredictors\u001b[0m\u001b[1;33m]\u001b[0m\u001b[1;33m.\u001b[0m\u001b[0miloc\u001b[0m\u001b[1;33m[\u001b[0m\u001b[0mtrain\u001b[0m\u001b[1;33m,\u001b[0m\u001b[1;33m:\u001b[0m\u001b[1;33m]\u001b[0m\u001b[1;33m)\u001b[0m\u001b[1;33m\u001b[0m\u001b[0m\n\u001b[0;32m     10\u001b[0m     \u001b[0mtrain_target\u001b[0m\u001b[1;33m=\u001b[0m\u001b[0mtitanic\u001b[0m\u001b[1;33m[\u001b[0m\u001b[1;34m\"Survived\"\u001b[0m\u001b[1;33m]\u001b[0m\u001b[1;33m.\u001b[0m\u001b[0miloc\u001b[0m\u001b[1;33m[\u001b[0m\u001b[0mtrain\u001b[0m\u001b[1;33m]\u001b[0m\u001b[1;33m\u001b[0m\u001b[0m\n\u001b[1;32m---> 11\u001b[1;33m     \u001b[0malg\u001b[0m\u001b[1;33m.\u001b[0m\u001b[0mfit\u001b[0m\u001b[1;33m(\u001b[0m\u001b[0mtrain_predictors\u001b[0m\u001b[1;33m,\u001b[0m\u001b[0mtrain_target\u001b[0m\u001b[1;33m)\u001b[0m\u001b[1;33m\u001b[0m\u001b[0m\n\u001b[0m\u001b[0;32m     12\u001b[0m     \u001b[0mtest_predictors\u001b[0m\u001b[1;33m=\u001b[0m\u001b[0malg\u001b[0m\u001b[1;33m.\u001b[0m\u001b[0mpredict\u001b[0m\u001b[1;33m(\u001b[0m\u001b[0mtitanic\u001b[0m\u001b[1;33m[\u001b[0m\u001b[0mpredictors\u001b[0m\u001b[1;33m]\u001b[0m\u001b[1;33m.\u001b[0m\u001b[0miloc\u001b[0m\u001b[1;33m[\u001b[0m\u001b[0mtest\u001b[0m\u001b[1;33m,\u001b[0m\u001b[1;33m:\u001b[0m\u001b[1;33m]\u001b[0m\u001b[1;33m)\u001b[0m\u001b[1;33m\u001b[0m\u001b[0m\n\u001b[0;32m     13\u001b[0m     \u001b[0mpredictions\u001b[0m\u001b[1;33m.\u001b[0m\u001b[0mappend\u001b[0m\u001b[1;33m(\u001b[0m\u001b[0mtest_predectors\u001b[0m\u001b[1;33m)\u001b[0m\u001b[1;33m\u001b[0m\u001b[0m\n",
      "\u001b[1;32mD:\\Anaconda\\lib\\site-packages\\sklearn\\linear_model\\base.py\u001b[0m in \u001b[0;36mfit\u001b[1;34m(self, X, y, sample_weight)\u001b[0m\n\u001b[0;32m    480\u001b[0m         \u001b[0mn_jobs_\u001b[0m \u001b[1;33m=\u001b[0m \u001b[0mself\u001b[0m\u001b[1;33m.\u001b[0m\u001b[0mn_jobs\u001b[0m\u001b[1;33m\u001b[0m\u001b[0m\n\u001b[0;32m    481\u001b[0m         X, y = check_X_y(X, y, accept_sparse=['csr', 'csc', 'coo'],\n\u001b[1;32m--> 482\u001b[1;33m                          y_numeric=True, multi_output=True)\n\u001b[0m\u001b[0;32m    483\u001b[0m \u001b[1;33m\u001b[0m\u001b[0m\n\u001b[0;32m    484\u001b[0m         \u001b[1;32mif\u001b[0m \u001b[0msample_weight\u001b[0m \u001b[1;32mis\u001b[0m \u001b[1;32mnot\u001b[0m \u001b[1;32mNone\u001b[0m \u001b[1;32mand\u001b[0m \u001b[0mnp\u001b[0m\u001b[1;33m.\u001b[0m\u001b[0matleast_1d\u001b[0m\u001b[1;33m(\u001b[0m\u001b[0msample_weight\u001b[0m\u001b[1;33m)\u001b[0m\u001b[1;33m.\u001b[0m\u001b[0mndim\u001b[0m \u001b[1;33m>\u001b[0m \u001b[1;36m1\u001b[0m\u001b[1;33m:\u001b[0m\u001b[1;33m\u001b[0m\u001b[0m\n",
      "\u001b[1;32mD:\\Anaconda\\lib\\site-packages\\sklearn\\utils\\validation.py\u001b[0m in \u001b[0;36mcheck_X_y\u001b[1;34m(X, y, accept_sparse, dtype, order, copy, force_all_finite, ensure_2d, allow_nd, multi_output, ensure_min_samples, ensure_min_features, y_numeric, warn_on_dtype, estimator)\u001b[0m\n\u001b[0;32m    571\u001b[0m     X = check_array(X, accept_sparse, dtype, order, copy, force_all_finite,\n\u001b[0;32m    572\u001b[0m                     \u001b[0mensure_2d\u001b[0m\u001b[1;33m,\u001b[0m \u001b[0mallow_nd\u001b[0m\u001b[1;33m,\u001b[0m \u001b[0mensure_min_samples\u001b[0m\u001b[1;33m,\u001b[0m\u001b[1;33m\u001b[0m\u001b[0m\n\u001b[1;32m--> 573\u001b[1;33m                     ensure_min_features, warn_on_dtype, estimator)\n\u001b[0m\u001b[0;32m    574\u001b[0m     \u001b[1;32mif\u001b[0m \u001b[0mmulti_output\u001b[0m\u001b[1;33m:\u001b[0m\u001b[1;33m\u001b[0m\u001b[0m\n\u001b[0;32m    575\u001b[0m         y = check_array(y, 'csr', force_all_finite=True, ensure_2d=False,\n",
      "\u001b[1;32mD:\\Anaconda\\lib\\site-packages\\sklearn\\utils\\validation.py\u001b[0m in \u001b[0;36mcheck_array\u001b[1;34m(array, accept_sparse, dtype, order, copy, force_all_finite, ensure_2d, allow_nd, ensure_min_samples, ensure_min_features, warn_on_dtype, estimator)\u001b[0m\n\u001b[0;32m    451\u001b[0m                              % (array.ndim, estimator_name))\n\u001b[0;32m    452\u001b[0m         \u001b[1;32mif\u001b[0m \u001b[0mforce_all_finite\u001b[0m\u001b[1;33m:\u001b[0m\u001b[1;33m\u001b[0m\u001b[0m\n\u001b[1;32m--> 453\u001b[1;33m             \u001b[0m_assert_all_finite\u001b[0m\u001b[1;33m(\u001b[0m\u001b[0marray\u001b[0m\u001b[1;33m)\u001b[0m\u001b[1;33m\u001b[0m\u001b[0m\n\u001b[0m\u001b[0;32m    454\u001b[0m \u001b[1;33m\u001b[0m\u001b[0m\n\u001b[0;32m    455\u001b[0m     \u001b[0mshape_repr\u001b[0m \u001b[1;33m=\u001b[0m \u001b[0m_shape_repr\u001b[0m\u001b[1;33m(\u001b[0m\u001b[0marray\u001b[0m\u001b[1;33m.\u001b[0m\u001b[0mshape\u001b[0m\u001b[1;33m)\u001b[0m\u001b[1;33m\u001b[0m\u001b[0m\n",
      "\u001b[1;32mD:\\Anaconda\\lib\\site-packages\\sklearn\\utils\\validation.py\u001b[0m in \u001b[0;36m_assert_all_finite\u001b[1;34m(X)\u001b[0m\n\u001b[0;32m     42\u001b[0m             and not np.isfinite(X).all()):\n\u001b[0;32m     43\u001b[0m         raise ValueError(\"Input contains NaN, infinity\"\n\u001b[1;32m---> 44\u001b[1;33m                          \" or a value too large for %r.\" % X.dtype)\n\u001b[0m\u001b[0;32m     45\u001b[0m \u001b[1;33m\u001b[0m\u001b[0m\n\u001b[0;32m     46\u001b[0m \u001b[1;33m\u001b[0m\u001b[0m\n",
      "\u001b[1;31mValueError\u001b[0m: Input contains NaN, infinity or a value too large for dtype('float64')."
     ]
    }
   ],
   "source": [
    "from sklearn.linear_model import LinearRegression\n",
    "from sklearn.cross_validation import KFold\n",
    "predictors=[\"Pclass\",\"Sex\",\"Age\",\"SibSp\",\"Parch\",\"Fare\",\"Embarked\"]\n",
    "#print(predictors)\n",
    "alg=LinearRegression()\n",
    "kf=KFold(titanic.shape[0],n_folds=3,random_state=1)\n",
    "predictions=[]\n",
    "for train,test in kf:\n",
    "    train_predictors=(titanic[predictors].iloc[train,:])\n",
    "    train_target=titanic[\"Survived\"].iloc[train]     \n",
    "    alg.fit(train_predictors,train_target)\n",
    "    test_predictors=alg.predict(titanic[predictors].iloc[test,:])\n",
    "    predictions.append(test_predectors)"
   ]
  },
  {
   "cell_type": "code",
   "execution_count": null,
   "metadata": {},
   "outputs": [],
   "source": [
    "from sklearn import cross_validation\n",
    "from sklearn.linear_model import LogisticRegression\n",
    "alg=LogisticRegression(random_state=1)\n",
    "#print(titanic[predictors])\n",
    "numpy.isnan(titanic[predictors]).any\n",
    "#scores=cross_validation.cross_val_score(alg, titanic[predictors],titanic[\"Survived\"],cv=3)\n",
    "print(scores.mean())"
   ]
  },
  {
   "cell_type": "code",
   "execution_count": 9,
   "metadata": {
    "collapsed": true
   },
   "outputs": [
    {
     "name": "stdout",
     "output_type": "stream",
     "text": [
      "     PassengerId  Survived  Pclass                                  Name Sex  \\\n",
      "630          631         1       1  Barkworth, Mr. Algernon Henry Wilson   0   \n",
      "851          852         0       3                   Svensson, Mr. Johan   0   \n",
      "96            97         0       1             Goldschmidt, Mr. George B   0   \n",
      "493          494         0       1               Artagaveytia, Mr. Ramon   0   \n",
      "116          117         0       3                  Connors, Mr. Patrick   0   \n",
      "672          673         0       2           Mitchell, Mr. Henry Michael   0   \n",
      "745          746         0       1          Crosby, Capt. Edward Gifford   0   \n",
      "33            34         0       2                 Wheadon, Mr. Edward H   0   \n",
      "456          457         0       1             Millet, Mr. Francis Davis   0   \n",
      "54            55         0       1        Ostby, Mr. Engelhart Cornelius   0   \n",
      "\n",
      "      Age  SibSp  Parch      Ticket     Fare Cabin Embarked  \n",
      "630  80.0      0      0       27042  30.0000   A23        0  \n",
      "851  74.0      0      0      347060   7.7750   NaN        0  \n",
      "96   71.0      0      0    PC 17754  34.6542    A5        1  \n",
      "493  71.0      0      0    PC 17609  49.5042   NaN        1  \n",
      "116  70.5      0      0      370369   7.7500   NaN        2  \n",
      "672  70.0      0      0  C.A. 24580  10.5000   NaN        0  \n",
      "745  70.0      1      1   WE/P 5735  71.0000   B22        0  \n",
      "33   66.0      0      0  C.A. 24579  10.5000   NaN        0  \n",
      "456  65.0      0      0       13509  26.5500   E38        0  \n",
      "54   65.0      0      1      113509  61.9792   B30        1  \n",
      "-------------\n",
      "    PassengerId  Survived  Pclass                                  Name Sex  \\\n",
      "0           631         1       1  Barkworth, Mr. Algernon Henry Wilson   0   \n",
      "1           852         0       3                   Svensson, Mr. Johan   0   \n",
      "2            97         0       1             Goldschmidt, Mr. George B   0   \n",
      "3           494         0       1               Artagaveytia, Mr. Ramon   0   \n",
      "4           117         0       3                  Connors, Mr. Patrick   0   \n",
      "5           673         0       2           Mitchell, Mr. Henry Michael   0   \n",
      "6           746         0       1          Crosby, Capt. Edward Gifford   0   \n",
      "7            34         0       2                 Wheadon, Mr. Edward H   0   \n",
      "8           457         0       1             Millet, Mr. Francis Davis   0   \n",
      "9            55         0       1        Ostby, Mr. Engelhart Cornelius   0   \n",
      "10          281         0       3                      Duane, Mr. Frank   0   \n",
      "\n",
      "     Age  SibSp  Parch      Ticket     Fare Cabin Embarked  \n",
      "0   80.0      0      0       27042  30.0000   A23        0  \n",
      "1   74.0      0      0      347060   7.7750   NaN        0  \n",
      "2   71.0      0      0    PC 17754  34.6542    A5        1  \n",
      "3   71.0      0      0    PC 17609  49.5042   NaN        1  \n",
      "4   70.5      0      0      370369   7.7500   NaN        2  \n",
      "5   70.0      0      0  C.A. 24580  10.5000   NaN        0  \n",
      "6   70.0      1      1   WE/P 5735  71.0000   B22        0  \n",
      "7   66.0      0      0  C.A. 24579  10.5000   NaN        0  \n",
      "8   65.0      0      0       13509  26.5500   E38        0  \n",
      "9   65.0      0      1      113509  61.9792   B30        1  \n",
      "10  65.0      0      0      336439   7.7500   NaN        2  \n"
     ]
    }
   ],
   "source": [
    "#titanic_survival=pandas.read_csv(\"r'C:\\Users\\Ordinary\\Desktop\\Kaggle_Titanic-master\\train.csv\")\n",
    "new_titanic_survival=titanic.sort_values(\"Age\",ascending=False)\n",
    "print(new_titanic_survival[0:10])\n",
    "titanic_reindexed=new_titanic_survival.reset_index(drop=True)\n",
    "print('-------------')\n",
    "print(titanic_reindexed.loc[0:10])"
   ]
  },
  {
   "cell_type": "code",
   "execution_count": 16,
   "metadata": {
    "collapsed": true
   },
   "outputs": [
    {
     "name": "stdout",
     "output_type": "stream",
     "text": [
      "PassengerId                  100\n",
      "Survived                       0\n",
      "Pclass                         2\n",
      "Name           Kantor, Mr. Sinai\n",
      "Sex                            0\n",
      "Age                           34\n",
      "SibSp                          1\n",
      "Parch                          0\n",
      "Ticket                    244367\n",
      "Fare                          26\n",
      "Cabin                        NaN\n",
      "Embarked                       0\n",
      "dtype: object\n"
     ]
    }
   ],
   "source": [
    "titanic_survival=titanic\n",
    "def hundredth_row(column):\n",
    "    hundredth_item=column.loc[99]\n",
    "    return hundredth_item\n",
    "\n",
    "hundredth_row=titanic_survival.apply(hundredth_row)\n",
    "print(hundredth_row)\n"
   ]
  },
  {
   "cell_type": "code",
   "execution_count": 20,
   "metadata": {
    "collapsed": true
   },
   "outputs": [
    {
     "name": "stdout",
     "output_type": "stream",
     "text": [
      "PassengerId      0\n",
      "Survived         0\n",
      "Pclass           0\n",
      "Name             0\n",
      "Sex              0\n",
      "Age              0\n",
      "SibSp            0\n",
      "Parch            0\n",
      "Ticket           0\n",
      "Fare             0\n",
      "Cabin          687\n",
      "Embarked         2\n",
      "dtype: int64\n"
     ]
    }
   ],
   "source": [
    "def not_null_count(column):\n",
    "    column_null=pandas.isnull(column)\n",
    "    null=column[column_null]\n",
    "    #print(null)\n",
    "    return len(null)\n",
    "\n",
    "column_null_count=titanic_survival.apply(not_null_count)\n",
    "print(column_null_count)"
   ]
  },
  {
   "cell_type": "code",
   "execution_count": 22,
   "metadata": {
    "collapsed": true
   },
   "outputs": [
    {
     "name": "stdout",
     "output_type": "stream",
     "text": [
      "0       Third Class\n",
      "1       First Class\n",
      "2       Third Class\n",
      "3       First Class\n",
      "4       Third Class\n",
      "5       Third Class\n",
      "6       First Class\n",
      "7       Third Class\n",
      "8       Third Class\n",
      "9      Second Class\n",
      "10      Third Class\n",
      "11      First Class\n",
      "12      Third Class\n",
      "13      Third Class\n",
      "14      Third Class\n",
      "15     Second Class\n",
      "16      Third Class\n",
      "17     Second Class\n",
      "18      Third Class\n",
      "19      Third Class\n",
      "20     Second Class\n",
      "21     Second Class\n",
      "22      Third Class\n",
      "23      First Class\n",
      "24      Third Class\n",
      "25      Third Class\n",
      "26      Third Class\n",
      "27      First Class\n",
      "28      Third Class\n",
      "29      Third Class\n",
      "           ...     \n",
      "861    Second Class\n",
      "862     First Class\n",
      "863     Third Class\n",
      "864    Second Class\n",
      "865    Second Class\n",
      "866    Second Class\n",
      "867     First Class\n",
      "868     Third Class\n",
      "869     Third Class\n",
      "870     Third Class\n",
      "871     First Class\n",
      "872     First Class\n",
      "873     Third Class\n",
      "874    Second Class\n",
      "875     Third Class\n",
      "876     Third Class\n",
      "877     Third Class\n",
      "878     Third Class\n",
      "879     First Class\n",
      "880    Second Class\n",
      "881     Third Class\n",
      "882     Third Class\n",
      "883    Second Class\n",
      "884     Third Class\n",
      "885     Third Class\n",
      "886    Second Class\n",
      "887     First Class\n",
      "888     Third Class\n",
      "889     First Class\n",
      "890     Third Class\n",
      "Length: 891, dtype: object\n"
     ]
    }
   ],
   "source": [
    "def which_class(row):\n",
    "    pclass=row['Pclass']\n",
    "    if pandas.isnull(pclass):\n",
    "        return \"Unknow\"\n",
    "    elif pclass==1:\n",
    "        return \"First Class\"\n",
    "    elif pclass==2:\n",
    "        return \"Second Class\"\n",
    "    elif pclass==3:\n",
    "        return \"Third Class\"\n",
    "    \n",
    "classes =titanic_survival.apply(which_class,axis=1)\n",
    "print(classes)"
   ]
  },
  {
   "cell_type": "code",
   "execution_count": 29,
   "metadata": {
    "collapsed": true
   },
   "outputs": [
    {
     "name": "stdout",
     "output_type": "stream",
     "text": [
      "0      adult\n",
      "1      adult\n",
      "2      adult\n",
      "3      adult\n",
      "4      adult\n",
      "5      adult\n",
      "6      adult\n",
      "7      minor\n",
      "8      adult\n",
      "9      minor\n",
      "10     minor\n",
      "11     adult\n",
      "12     adult\n",
      "13     adult\n",
      "14     minor\n",
      "15     adult\n",
      "16     minor\n",
      "17     adult\n",
      "18     adult\n",
      "19     adult\n",
      "20     adult\n",
      "21     adult\n",
      "22     minor\n",
      "23     adult\n",
      "24     minor\n",
      "25     adult\n",
      "26     adult\n",
      "27     adult\n",
      "28     adult\n",
      "29     adult\n",
      "       ...  \n",
      "861    adult\n",
      "862    adult\n",
      "863    adult\n",
      "864    adult\n",
      "865    adult\n",
      "866    adult\n",
      "867    adult\n",
      "868    adult\n",
      "869    minor\n",
      "870    adult\n",
      "871    adult\n",
      "872    adult\n",
      "873    adult\n",
      "874    adult\n",
      "875    minor\n",
      "876    adult\n",
      "877    adult\n",
      "878    adult\n",
      "879    adult\n",
      "880    adult\n",
      "881    adult\n",
      "882    adult\n",
      "883    adult\n",
      "884    adult\n",
      "885    adult\n",
      "886    adult\n",
      "887    adult\n",
      "888    adult\n",
      "889    adult\n",
      "890    adult\n",
      "Length: 891, dtype: object\n"
     ]
    }
   ],
   "source": [
    "def is_minor(row):\n",
    "    if row[\"Age\"]<18:\n",
    "        return True\n",
    "    else :\n",
    "        return False\n",
    "\n",
    "#minors=titanic_survival.apply(is_minor.axis=1)\n",
    "#print (minors)\n",
    "\n",
    "def generate_age_label(row):\n",
    "    age=row[\"Age\"]\n",
    "    if pandas.isnull(age):\n",
    "        return \"unknow\"\n",
    "    elif age<18:\n",
    "        return \"minor\"\n",
    "    else :\n",
    "        return \"adult\"\n",
    "\n",
    "age_labels=titanic_survival.apply(generate_age_label,axis=1)\n",
    "print(age_labels)"
   ]
  },
  {
   "cell_type": "code",
   "execution_count": 30,
   "metadata": {},
   "outputs": [
    {
     "name": "stdout",
     "output_type": "stream",
     "text": [
      "            Survived\n",
      "age_labels          \n",
      "adult       0.361183\n",
      "minor       0.539823\n"
     ]
    }
   ],
   "source": [
    "titanic_survival['age_labels']=age_labels\n",
    "age_group_survival=titanic_survival.pivot_table(index=\"age_labels\",values=\"Survived\")\n",
    "print(age_group_survival)"
   ]
  },
  {
   "cell_type": "code",
   "execution_count": null,
   "metadata": {
    "collapsed": true
   },
   "outputs": [],
   "source": []
  }
 ],
 "metadata": {
  "kernelspec": {
   "display_name": "Python 3",
   "language": "python",
   "name": "python3"
  },
  "language_info": {
   "codemirror_mode": {
    "name": "ipython",
    "version": 3
   },
   "file_extension": ".py",
   "mimetype": "text/x-python",
   "name": "python",
   "nbconvert_exporter": "python",
   "pygments_lexer": "ipython3",
   "version": "3.6.3"
  }
 },
 "nbformat": 4,
 "nbformat_minor": 2
}
