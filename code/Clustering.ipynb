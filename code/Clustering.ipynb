{
 "cells": [
  {
   "cell_type": "code",
   "execution_count": 1,
   "metadata": {
    "collapsed": true
   },
   "outputs": [],
   "source": [
    "import pandas as pd\n",
    "votes=pd.read_csv(r'C:\\Users\\Ordinary\\Desktop\\114_congress.csv')"
   ]
  },
  {
   "cell_type": "code",
   "execution_count": 3,
   "metadata": {},
   "outputs": [
    {
     "name": "stdout",
     "output_type": "stream",
     "text": [
      "R    54\n",
      "D    44\n",
      "I     2\n",
      "Name: party, dtype: int64\n",
      "00001    0.325\n",
      "00004    0.575\n",
      "00005    0.535\n",
      "00006    0.945\n",
      "00007    0.545\n",
      "00008    0.415\n",
      "00009    0.545\n",
      "00010    0.985\n",
      "00020    0.525\n",
      "00026    0.545\n",
      "00032    0.410\n",
      "00038    0.480\n",
      "00039    0.510\n",
      "00044    0.460\n",
      "00047    0.370\n",
      "dtype: float64\n"
     ]
    }
   ],
   "source": [
    "print(votes['party'].value_counts())\n",
    "print(votes.mean())"
   ]
  },
  {
   "cell_type": "code",
   "execution_count": 6,
   "metadata": {},
   "outputs": [
    {
     "name": "stdout",
     "output_type": "stream",
     "text": [
      "[[ 1.73205081]]\n"
     ]
    },
    {
     "name": "stderr",
     "output_type": "stream",
     "text": [
      "D:\\Anaconda\\lib\\site-packages\\ipykernel_launcher.py:3: FutureWarning: reshape is deprecated and will raise in a subsequent release. Please use .values.reshape(...) instead\n",
      "  This is separate from the ipykernel package so we can avoid doing imports until\n",
      "D:\\Anaconda\\lib\\site-packages\\ipykernel_launcher.py:4: FutureWarning: reshape is deprecated and will raise in a subsequent release. Please use .values.reshape(...) instead\n",
      "  after removing the cwd from sys.path.\n"
     ]
    }
   ],
   "source": [
    "from sklearn.metrics.pairwise import euclidean_distances\n",
    "\n",
    "print(euclidean_distances(votes.iloc[0,3:].reshape(1,-1),votes.iloc[1,3:].reshape(1,-1)))\n",
    "distance=euclidean_distances(votes.iloc[0,3:].reshape(1,-1),votes.iloc[2,3:].reshape(1,-1))\n"
   ]
  },
  {
   "cell_type": "code",
   "execution_count": 19,
   "metadata": {
    "collapsed": true
   },
   "outputs": [
    {
     "name": "stdout",
     "output_type": "stream",
     "text": [
      "[[ 3.12141628  1.3134775 ]\n",
      " [ 2.6146248   2.05339992]\n",
      " [ 0.33960656  3.41651746]\n",
      " [ 3.42004795  0.24198446]\n",
      " [ 1.43833966  2.96866004]\n",
      " [ 0.33960656  3.41651746]\n",
      " [ 3.42004795  0.24198446]\n",
      " [ 0.33960656  3.41651746]\n",
      " [ 3.42004795  0.24198446]\n",
      " [ 0.31287498  3.30758755]\n",
      " [ 0.33960656  3.41651746]\n",
      " [ 3.27058526  0.96734144]\n",
      " [ 0.33960656  3.41651746]\n",
      " [ 3.34875646  0.53945585]\n",
      " [ 0.33960656  3.41651746]\n",
      " [ 1.18084816  3.12695614]\n",
      " [ 1.23852221  3.13536063]\n",
      " [ 3.42004795  0.24198446]\n",
      " [ 3.42004795  0.24198446]\n",
      " [ 3.42004795  0.24198446]\n",
      " [ 2.6146248   2.05339992]\n",
      " [ 0.58487332  3.31421108]\n",
      " [ 3.42004795  0.24198446]\n",
      " [ 3.42004795  0.24198446]\n",
      " [ 3.42004795  0.24198446]\n",
      " [ 3.42004795  0.24198446]\n",
      " [ 3.56324683  0.93036231]\n",
      " [ 3.42004795  0.24198446]\n",
      " [ 1.73847904  2.82326711]\n",
      " [ 0.33960656  3.41651746]\n",
      " [ 3.42004795  0.24198446]\n",
      " [ 3.42004795  0.24198446]\n",
      " [ 0.33960656  3.41651746]\n",
      " [ 3.42004795  0.24198446]\n",
      " [ 3.42004795  0.24198446]\n",
      " [ 0.58487332  3.31421108]\n",
      " [ 3.27058526  0.92088553]\n",
      " [ 0.33960656  3.41651746]\n",
      " [ 3.19687093  0.64668818]\n",
      " [ 3.42004795  0.24198446]\n",
      " [ 3.42004795  0.24198446]\n",
      " [ 0.76187197  3.27225905]\n",
      " [ 2.3965057   2.27626086]\n",
      " [ 3.28477567  0.93974352]\n",
      " [ 0.33960656  3.41651746]\n",
      " [ 3.42004795  0.24198446]\n",
      " [ 3.42004795  0.24198446]\n",
      " [ 3.42004795  0.24198446]\n",
      " [ 3.42004795  0.24198446]\n",
      " [ 0.88867948  3.27225905]\n",
      " [ 0.76187197  3.27225905]\n",
      " [ 3.01916091  1.66141833]\n",
      " [ 1.12020868  3.12134058]\n",
      " [ 3.56324683  0.93036231]\n",
      " [ 0.33960656  3.41651746]\n",
      " [ 3.34962442  1.10689798]\n",
      " [ 2.78266771  1.88408719]\n",
      " [ 0.33960656  3.41651746]\n",
      " [ 3.42004795  0.24198446]\n",
      " [ 1.71151573  2.80456307]\n",
      " [ 3.42004795  0.24198446]\n",
      " [ 0.33960656  3.41651746]\n",
      " [ 0.33960656  3.41651746]\n",
      " [ 0.33960656  3.41651746]\n",
      " [ 3.42004795  0.24198446]\n",
      " [ 3.42004795  0.24198446]\n",
      " [ 0.33960656  3.41651746]\n",
      " [ 0.33960656  3.41651746]\n",
      " [ 1.01109315  3.2936348 ]\n",
      " [ 3.56324683  0.93036231]\n",
      " [ 3.42004795  0.24198446]\n",
      " [ 0.76187197  3.27225905]\n",
      " [ 3.42004795  0.24198446]\n",
      " [ 0.33960656  3.41651746]\n",
      " [ 1.77652196  1.72996156]\n",
      " [ 3.42004795  0.24198446]\n",
      " [ 3.42004795  0.24198446]\n",
      " [ 3.42004795  0.24198446]\n",
      " [ 2.87211656  0.98753387]\n",
      " [ 0.33960656  3.41651746]\n",
      " [ 3.56324683  0.93036231]\n",
      " [ 0.33960656  3.41651746]\n",
      " [ 0.33960656  3.41651746]\n",
      " [ 3.42004795  0.24198446]\n",
      " [ 3.42004795  0.24198446]\n",
      " [ 0.33960656  3.41651746]\n",
      " [ 3.42004795  0.24198446]\n",
      " [ 0.76187197  3.27225905]\n",
      " [ 3.42004795  0.24198446]\n",
      " [ 1.71151573  2.80456307]\n",
      " [ 3.42004795  0.24198446]\n",
      " [ 3.42004795  0.24198446]\n",
      " [ 3.42004795  0.24198446]\n",
      " [ 0.33960656  3.41651746]\n",
      " [ 3.42004795  0.24198446]\n",
      " [ 1.32031799  3.118529  ]\n",
      " [ 0.33960656  3.41651746]\n",
      " [ 0.33960656  3.41651746]\n",
      " [ 3.56324683  1.00295807]\n",
      " [ 0.33960656  3.41651746]]\n"
     ]
    }
   ],
   "source": [
    "import pandas as pd\n",
    "from sklearn.cluster import KMeans\n",
    "\n",
    "kmeans_model =KMeans(n_clusters=2,random_state=1)\n",
    "senator_distance=kmeans_model.fit_transform(votes.iloc[:,3:])\n",
    "print(senator_distance)"
   ]
  },
  {
   "cell_type": "code",
   "execution_count": 22,
   "metadata": {},
   "outputs": [
    {
     "name": "stdout",
     "output_type": "stream",
     "text": [
      "party   D  I   R\n",
      "row_0           \n",
      "0      41  2   0\n",
      "1       3  0  54\n"
     ]
    }
   ],
   "source": [
    "labels=kmeans_model.labels_\n",
    "print(pd.crosstab(labels,votes['party']))\n",
    "democratic_outliners=votes[(labels==1)&(votes['party']!='D')]\n",
    "#print(democratic_outliners)"
   ]
  },
  {
   "cell_type": "code",
   "execution_count": 25,
   "metadata": {},
   "outputs": [
    {
     "name": "stdout",
     "output_type": "stream",
     "text": [
      "        name party state  00001  00004  00005  00006  00007  00008  00009  \\\n",
      "42  Heitkamp     D    ND    0.0    1.0    0.0    1.0    0.0    0.0    1.0   \n",
      "56   Manchin     D    WV    0.0    1.0    0.0    1.0    0.0    0.0    1.0   \n",
      "74      Reid     D    NV    0.5    0.5    0.5    0.5    0.5    0.5    0.5   \n",
      "\n",
      "    00010  00020  00026  00032  00038  00039  00044  00047  \n",
      "42    1.0    0.0    0.0    0.0    1.0    0.0    0.0    0.0  \n",
      "56    1.0    1.0    0.0    0.0    1.0    1.0    0.0    0.0  \n",
      "74    0.5    0.5    0.5    0.5    0.5    0.5    0.5    0.5  \n"
     ]
    }
   ],
   "source": [
    "democratic_outliners=votes[(labels==1)&(votes['party']=='D')]\n",
    "print(democratic_outliners)"
   ]
  },
  {
   "cell_type": "code",
   "execution_count": 29,
   "metadata": {},
   "outputs": [
    {
     "data": {
      "image/png": "[encoded data removed]",
      "text/plain": [
       "<matplotlib.figure.Figure at 0x11e3390f9b0>"
      ]
     },
     "metadata": {},
     "output_type": "display_data"
    }
   ],
   "source": [
    "import matplotlib.pyplot as plt\n",
    "plt.scatter(x=senator_distance[:,0],y=senator_distance[:,1],c=labels)\n",
    "plt.show()"
   ]
  },
  {
   "cell_type": "code",
   "execution_count": 30,
   "metadata": {},
   "outputs": [
    {
     "name": "stdout",
     "output_type": "stream",
     "text": [
      "39.317823999999995\n",
      "25.576\n"
     ]
    }
   ],
   "source": [
    "extremist=[3.4,.24]\n",
    "moderate=[2.6,2]\n",
    "print(3.4**3+.24**3)\n",
    "print(2.6**3+2**3)"
   ]
  },
  {
   "cell_type": "code",
   "execution_count": 31,
   "metadata": {},
   "outputs": [
    {
     "name": "stdout",
     "output_type": "stream",
     "text": [
      "        name party state  00001  00004  00005  00006  00007  00008  00009  \\\n",
      "98    Wicker     R    MS    0.0    1.0    1.0    1.0    1.0    0.0    1.0   \n",
      "53  Lankford     R    OK    0.0    1.0    1.0    0.0    1.0    0.0    1.0   \n",
      "69      Paul     R    KY    0.0    1.0    1.0    0.0    1.0    0.0    1.0   \n",
      "80     Sasse     R    NE    0.0    1.0    1.0    0.0    1.0    0.0    1.0   \n",
      "26      Cruz     R    TX    0.0    1.0    1.0    0.0    1.0    0.0    1.0   \n",
      "\n",
      "    00010  00020  00026  00032  00038  00039  00044  00047  extremism  \n",
      "98    0.0    1.0    1.0    0.0    0.0    1.0    0.0    0.0  46.250476  \n",
      "53    1.0    1.0    1.0    0.0    0.0    1.0    0.0    0.0  46.046873  \n",
      "69    1.0    1.0    1.0    0.0    0.0    1.0    0.0    0.0  46.046873  \n",
      "80    1.0    1.0    1.0    0.0    0.0    1.0    0.0    0.0  46.046873  \n",
      "26    1.0    1.0    1.0    0.0    0.0    1.0    0.0    0.0  46.046873  \n"
     ]
    }
   ],
   "source": [
    "extremism=(senator_distance**3).sum(axis=1)\n",
    "votes['extremism']=extremism\n",
    "votes.sort_values('extremism',inplace=True,ascending=False)\n",
    "print(votes.head())"
   ]
  },
  {
   "cell_type": "code",
   "execution_count": null,
   "metadata": {
    "collapsed": true
   },
   "outputs": [],
   "source": []
  }
 ],
 "metadata": {
  "kernelspec": {
   "display_name": "Python 3",
   "language": "python",
   "name": "python3"
  },
  "language_info": {
   "codemirror_mode": {
    "name": "ipython",
    "version": 3
   },
   "file_extension": ".py",
   "mimetype": "text/x-python",
   "name": "python",
   "nbconvert_exporter": "python",
   "pygments_lexer": "ipython3",
   "version": "3.6.3"
  }
 },
 "nbformat": 4,
 "nbformat_minor": 2
}
